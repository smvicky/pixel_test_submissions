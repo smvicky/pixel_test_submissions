{
  "nbformat": 4,
  "nbformat_minor": 0,
  "metadata": {
    "colab": {
      "provenance": [],
      "authorship_tag": "ABX9TyNUUGcLsob8Rkm9rgBoOsdH",
      "include_colab_link": true
    },
    "kernelspec": {
      "name": "python3",
      "display_name": "Python 3"
    },
    "language_info": {
      "name": "python"
    }
  },
  "cells": [
    {
      "cell_type": "markdown",
      "metadata": {
        "id": "view-in-github",
        "colab_type": "text"
      },
      "source": [
        "<a href=\"https://colab.research.google.com/github/smvicky/pixel_test_submissions/blob/main/house_prices__advRegTech.ipynb\" target=\"_parent\"><img src=\"https://colab.research.google.com/assets/colab-badge.svg\" alt=\"Open In Colab\"/></a>"
      ]
    },
    {
      "cell_type": "code",
      "source": [
        "!pip install category_encoders"
      ],
      "metadata": {
        "id": "6LNY82rX__sN"
      },
      "execution_count": null,
      "outputs": []
    },
    {
      "cell_type": "code",
      "execution_count": null,
      "metadata": {
        "id": "61NQhGRaFsUw"
      },
      "outputs": [],
      "source": [
        "import pandas as pd\n",
        "\n",
        "train_raw = pd.read_csv(\"/content/train.csv\")\n",
        "test = pd.read_csv(\"/content/test.csv\")\n",
        "train_raw.head(), test.head()"
      ]
    },
    {
      "cell_type": "code",
      "source": [
        "train_raw.isnull().sum().tail(40)"
      ],
      "metadata": {
        "id": "_PAZUvzbJNjb"
      },
      "execution_count": null,
      "outputs": []
    },
    {
      "cell_type": "code",
      "source": [
        "# dropping these columns with most Null values\n",
        "cols_to_remove = [\"LotFrontage\", \"Alley\",\"MasVnrType\",\"FireplaceQu\",\"PoolQC\",\"Fence\",\"MiscFeature\"]\n",
        "train_raw.drop(columns=cols_to_remove,axis = 1, inplace=True)\n",
        "test.drop(columns=cols_to_remove,axis = 1, inplace=True)\n",
        "train_raw.dropna(inplace=True)"
      ],
      "metadata": {
        "id": "4Z7BP3mCJfaq"
      },
      "execution_count": null,
      "outputs": []
    },
    {
      "cell_type": "code",
      "source": [
        "#adding new feature total_bath\n",
        "train_raw['total_baths'] = train_raw['BsmtFullBath'] + train_raw['BsmtHalfBath'] + train_raw['FullBath'] + train_raw['HalfBath']\n",
        "test['total_baths'] = test['BsmtFullBath'] + test['BsmtHalfBath'] + test['FullBath'] + test['HalfBath']"
      ],
      "metadata": {
        "id": "YWXP9T5xK_EO"
      },
      "execution_count": null,
      "outputs": []
    },
    {
      "cell_type": "code",
      "source": [
        "traget = [\"SalePrice\"]\n",
        "feature = train_raw.columns.drop(['SalePrice'])\n",
        "y =train_raw[traget]\n",
        "X = train_raw[feature]"
      ],
      "metadata": {
        "id": "C8qWwASGNtIP"
      },
      "execution_count": null,
      "outputs": []
    },
    {
      "cell_type": "code",
      "source": [
        "from sklearn.model_selection import train_test_split\n",
        "X_train,X_val = train_test_split(X,train_size=0.8,random_state=2)\n",
        "y_train,y_val = train_test_split(y,train_size=0.8,random_state=2)\n",
        "X_train.shape,X_val.shape,y_train.shape,y_val.shape,"
      ],
      "metadata": {
        "colab": {
          "base_uri": "https://localhost:8080/"
        },
        "id": "LXjesMdtO8y1",
        "outputId": "be93c5c7-d5ed-4f8d-a772-21645e2fe6bb"
      },
      "execution_count": null,
      "outputs": [
        {
          "output_type": "execute_result",
          "data": {
            "text/plain": [
              "((1070, 74), (268, 74), (1070, 1), (268, 1))"
            ]
          },
          "metadata": {},
          "execution_count": 254
        }
      ]
    },
    {
      "cell_type": "code",
      "source": [
        "from sklearn.ensemble import RandomForestClassifier\n",
        "from sklearn.tree import DecisionTreeClassifier\n",
        "from sklearn.linear_model import LinearRegression\n",
        "import category_encoders as ce\n",
        "from sklearn.pipeline import make_pipeline\n",
        "from sklearn.impute import SimpleImputer\n",
        "\n",
        "pipeline = make_pipeline(\n",
        "    ce.OneHotEncoder(use_cat_names=True),\n",
        "    SimpleImputer(strategy='median'),\n",
        "    LinearRegression()\n",
        "    )\n"
      ],
      "metadata": {
        "id": "NFzr-xXD_RYb"
      },
      "execution_count": null,
      "outputs": []
    },
    {
      "cell_type": "code",
      "source": [
        "pipeline.fit(X_train,y_train)"
      ],
      "metadata": {
        "colab": {
          "base_uri": "https://localhost:8080/",
          "height": 161
        },
        "id": "ba8vAw_hAIgT",
        "outputId": "900716a1-6785-43e4-a92b-c9e5a0d11870"
      },
      "execution_count": null,
      "outputs": [
        {
          "output_type": "execute_result",
          "data": {
            "text/plain": [
              "Pipeline(steps=[('onehotencoder',\n",
              "                 OneHotEncoder(cols=['MSZoning', 'Street', 'LotShape',\n",
              "                                     'LandContour', 'Utilities', 'LotConfig',\n",
              "                                     'LandSlope', 'Neighborhood', 'Condition1',\n",
              "                                     'Condition2', 'BldgType', 'HouseStyle',\n",
              "                                     'RoofStyle', 'RoofMatl', 'Exterior1st',\n",
              "                                     'Exterior2nd', 'ExterQual', 'ExterCond',\n",
              "                                     'Foundation', 'BsmtQual', 'BsmtCond',\n",
              "                                     'BsmtExposure', 'BsmtFinType1',\n",
              "                                     'BsmtFinType2', 'Heating', 'HeatingQC',\n",
              "                                     'CentralAir', 'Electrical', 'KitchenQual',\n",
              "                                     'Functional', ...],\n",
              "                               use_cat_names=True)),\n",
              "                ('simpleimputer', SimpleImputer(strategy='median')),\n",
              "                ('linearregression', LinearRegression())])"
            ],
            "text/html": [
              "<style>#sk-container-id-12 {color: black;background-color: white;}#sk-container-id-12 pre{padding: 0;}#sk-container-id-12 div.sk-toggleable {background-color: white;}#sk-container-id-12 label.sk-toggleable__label {cursor: pointer;display: block;width: 100%;margin-bottom: 0;padding: 0.3em;box-sizing: border-box;text-align: center;}#sk-container-id-12 label.sk-toggleable__label-arrow:before {content: \"▸\";float: left;margin-right: 0.25em;color: #696969;}#sk-container-id-12 label.sk-toggleable__label-arrow:hover:before {color: black;}#sk-container-id-12 div.sk-estimator:hover label.sk-toggleable__label-arrow:before {color: black;}#sk-container-id-12 div.sk-toggleable__content {max-height: 0;max-width: 0;overflow: hidden;text-align: left;background-color: #f0f8ff;}#sk-container-id-12 div.sk-toggleable__content pre {margin: 0.2em;color: black;border-radius: 0.25em;background-color: #f0f8ff;}#sk-container-id-12 input.sk-toggleable__control:checked~div.sk-toggleable__content {max-height: 200px;max-width: 100%;overflow: auto;}#sk-container-id-12 input.sk-toggleable__control:checked~label.sk-toggleable__label-arrow:before {content: \"▾\";}#sk-container-id-12 div.sk-estimator input.sk-toggleable__control:checked~label.sk-toggleable__label {background-color: #d4ebff;}#sk-container-id-12 div.sk-label input.sk-toggleable__control:checked~label.sk-toggleable__label {background-color: #d4ebff;}#sk-container-id-12 input.sk-hidden--visually {border: 0;clip: rect(1px 1px 1px 1px);clip: rect(1px, 1px, 1px, 1px);height: 1px;margin: -1px;overflow: hidden;padding: 0;position: absolute;width: 1px;}#sk-container-id-12 div.sk-estimator {font-family: monospace;background-color: #f0f8ff;border: 1px dotted black;border-radius: 0.25em;box-sizing: border-box;margin-bottom: 0.5em;}#sk-container-id-12 div.sk-estimator:hover {background-color: #d4ebff;}#sk-container-id-12 div.sk-parallel-item::after {content: \"\";width: 100%;border-bottom: 1px solid gray;flex-grow: 1;}#sk-container-id-12 div.sk-label:hover label.sk-toggleable__label {background-color: #d4ebff;}#sk-container-id-12 div.sk-serial::before {content: \"\";position: absolute;border-left: 1px solid gray;box-sizing: border-box;top: 0;bottom: 0;left: 50%;z-index: 0;}#sk-container-id-12 div.sk-serial {display: flex;flex-direction: column;align-items: center;background-color: white;padding-right: 0.2em;padding-left: 0.2em;position: relative;}#sk-container-id-12 div.sk-item {position: relative;z-index: 1;}#sk-container-id-12 div.sk-parallel {display: flex;align-items: stretch;justify-content: center;background-color: white;position: relative;}#sk-container-id-12 div.sk-item::before, #sk-container-id-12 div.sk-parallel-item::before {content: \"\";position: absolute;border-left: 1px solid gray;box-sizing: border-box;top: 0;bottom: 0;left: 50%;z-index: -1;}#sk-container-id-12 div.sk-parallel-item {display: flex;flex-direction: column;z-index: 1;position: relative;background-color: white;}#sk-container-id-12 div.sk-parallel-item:first-child::after {align-self: flex-end;width: 50%;}#sk-container-id-12 div.sk-parallel-item:last-child::after {align-self: flex-start;width: 50%;}#sk-container-id-12 div.sk-parallel-item:only-child::after {width: 0;}#sk-container-id-12 div.sk-dashed-wrapped {border: 1px dashed gray;margin: 0 0.4em 0.5em 0.4em;box-sizing: border-box;padding-bottom: 0.4em;background-color: white;}#sk-container-id-12 div.sk-label label {font-family: monospace;font-weight: bold;display: inline-block;line-height: 1.2em;}#sk-container-id-12 div.sk-label-container {text-align: center;}#sk-container-id-12 div.sk-container {/* jupyter's `normalize.less` sets `[hidden] { display: none; }` but bootstrap.min.css set `[hidden] { display: none !important; }` so we also need the `!important` here to be able to override the default hidden behavior on the sphinx rendered scikit-learn.org. See: https://github.com/scikit-learn/scikit-learn/issues/21755 */display: inline-block !important;position: relative;}#sk-container-id-12 div.sk-text-repr-fallback {display: none;}</style><div id=\"sk-container-id-12\" class=\"sk-top-container\"><div class=\"sk-text-repr-fallback\"><pre>Pipeline(steps=[(&#x27;onehotencoder&#x27;,\n",
              "                 OneHotEncoder(cols=[&#x27;MSZoning&#x27;, &#x27;Street&#x27;, &#x27;LotShape&#x27;,\n",
              "                                     &#x27;LandContour&#x27;, &#x27;Utilities&#x27;, &#x27;LotConfig&#x27;,\n",
              "                                     &#x27;LandSlope&#x27;, &#x27;Neighborhood&#x27;, &#x27;Condition1&#x27;,\n",
              "                                     &#x27;Condition2&#x27;, &#x27;BldgType&#x27;, &#x27;HouseStyle&#x27;,\n",
              "                                     &#x27;RoofStyle&#x27;, &#x27;RoofMatl&#x27;, &#x27;Exterior1st&#x27;,\n",
              "                                     &#x27;Exterior2nd&#x27;, &#x27;ExterQual&#x27;, &#x27;ExterCond&#x27;,\n",
              "                                     &#x27;Foundation&#x27;, &#x27;BsmtQual&#x27;, &#x27;BsmtCond&#x27;,\n",
              "                                     &#x27;BsmtExposure&#x27;, &#x27;BsmtFinType1&#x27;,\n",
              "                                     &#x27;BsmtFinType2&#x27;, &#x27;Heating&#x27;, &#x27;HeatingQC&#x27;,\n",
              "                                     &#x27;CentralAir&#x27;, &#x27;Electrical&#x27;, &#x27;KitchenQual&#x27;,\n",
              "                                     &#x27;Functional&#x27;, ...],\n",
              "                               use_cat_names=True)),\n",
              "                (&#x27;simpleimputer&#x27;, SimpleImputer(strategy=&#x27;median&#x27;)),\n",
              "                (&#x27;linearregression&#x27;, LinearRegression())])</pre><b>In a Jupyter environment, please rerun this cell to show the HTML representation or trust the notebook. <br />On GitHub, the HTML representation is unable to render, please try loading this page with nbviewer.org.</b></div><div class=\"sk-container\" hidden><div class=\"sk-item sk-dashed-wrapped\"><div class=\"sk-label-container\"><div class=\"sk-label sk-toggleable\"><input class=\"sk-toggleable__control sk-hidden--visually\" id=\"sk-estimator-id-45\" type=\"checkbox\" ><label for=\"sk-estimator-id-45\" class=\"sk-toggleable__label sk-toggleable__label-arrow\">Pipeline</label><div class=\"sk-toggleable__content\"><pre>Pipeline(steps=[(&#x27;onehotencoder&#x27;,\n",
              "                 OneHotEncoder(cols=[&#x27;MSZoning&#x27;, &#x27;Street&#x27;, &#x27;LotShape&#x27;,\n",
              "                                     &#x27;LandContour&#x27;, &#x27;Utilities&#x27;, &#x27;LotConfig&#x27;,\n",
              "                                     &#x27;LandSlope&#x27;, &#x27;Neighborhood&#x27;, &#x27;Condition1&#x27;,\n",
              "                                     &#x27;Condition2&#x27;, &#x27;BldgType&#x27;, &#x27;HouseStyle&#x27;,\n",
              "                                     &#x27;RoofStyle&#x27;, &#x27;RoofMatl&#x27;, &#x27;Exterior1st&#x27;,\n",
              "                                     &#x27;Exterior2nd&#x27;, &#x27;ExterQual&#x27;, &#x27;ExterCond&#x27;,\n",
              "                                     &#x27;Foundation&#x27;, &#x27;BsmtQual&#x27;, &#x27;BsmtCond&#x27;,\n",
              "                                     &#x27;BsmtExposure&#x27;, &#x27;BsmtFinType1&#x27;,\n",
              "                                     &#x27;BsmtFinType2&#x27;, &#x27;Heating&#x27;, &#x27;HeatingQC&#x27;,\n",
              "                                     &#x27;CentralAir&#x27;, &#x27;Electrical&#x27;, &#x27;KitchenQual&#x27;,\n",
              "                                     &#x27;Functional&#x27;, ...],\n",
              "                               use_cat_names=True)),\n",
              "                (&#x27;simpleimputer&#x27;, SimpleImputer(strategy=&#x27;median&#x27;)),\n",
              "                (&#x27;linearregression&#x27;, LinearRegression())])</pre></div></div></div><div class=\"sk-serial\"><div class=\"sk-item\"><div class=\"sk-estimator sk-toggleable\"><input class=\"sk-toggleable__control sk-hidden--visually\" id=\"sk-estimator-id-46\" type=\"checkbox\" ><label for=\"sk-estimator-id-46\" class=\"sk-toggleable__label sk-toggleable__label-arrow\">OneHotEncoder</label><div class=\"sk-toggleable__content\"><pre>OneHotEncoder(cols=[&#x27;MSZoning&#x27;, &#x27;Street&#x27;, &#x27;LotShape&#x27;, &#x27;LandContour&#x27;,\n",
              "                    &#x27;Utilities&#x27;, &#x27;LotConfig&#x27;, &#x27;LandSlope&#x27;, &#x27;Neighborhood&#x27;,\n",
              "                    &#x27;Condition1&#x27;, &#x27;Condition2&#x27;, &#x27;BldgType&#x27;, &#x27;HouseStyle&#x27;,\n",
              "                    &#x27;RoofStyle&#x27;, &#x27;RoofMatl&#x27;, &#x27;Exterior1st&#x27;, &#x27;Exterior2nd&#x27;,\n",
              "                    &#x27;ExterQual&#x27;, &#x27;ExterCond&#x27;, &#x27;Foundation&#x27;, &#x27;BsmtQual&#x27;,\n",
              "                    &#x27;BsmtCond&#x27;, &#x27;BsmtExposure&#x27;, &#x27;BsmtFinType1&#x27;, &#x27;BsmtFinType2&#x27;,\n",
              "                    &#x27;Heating&#x27;, &#x27;HeatingQC&#x27;, &#x27;CentralAir&#x27;, &#x27;Electrical&#x27;,\n",
              "                    &#x27;KitchenQual&#x27;, &#x27;Functional&#x27;, ...],\n",
              "              use_cat_names=True)</pre></div></div></div><div class=\"sk-item\"><div class=\"sk-estimator sk-toggleable\"><input class=\"sk-toggleable__control sk-hidden--visually\" id=\"sk-estimator-id-47\" type=\"checkbox\" ><label for=\"sk-estimator-id-47\" class=\"sk-toggleable__label sk-toggleable__label-arrow\">SimpleImputer</label><div class=\"sk-toggleable__content\"><pre>SimpleImputer(strategy=&#x27;median&#x27;)</pre></div></div></div><div class=\"sk-item\"><div class=\"sk-estimator sk-toggleable\"><input class=\"sk-toggleable__control sk-hidden--visually\" id=\"sk-estimator-id-48\" type=\"checkbox\" ><label for=\"sk-estimator-id-48\" class=\"sk-toggleable__label sk-toggleable__label-arrow\">LinearRegression</label><div class=\"sk-toggleable__content\"><pre>LinearRegression()</pre></div></div></div></div></div></div></div>"
            ]
          },
          "metadata": {},
          "execution_count": 256
        }
      ]
    },
    {
      "cell_type": "code",
      "source": [
        "pipeline.predict(X_val)"
      ],
      "metadata": {
        "collapsed": true,
        "id": "D73E8h5GAcrz",
        "colab": {
          "base_uri": "https://localhost:8080/"
        },
        "outputId": "adf2da2e-64ff-4d29-f80f-220a7b53f3c1"
      },
      "execution_count": null,
      "outputs": [
        {
          "output_type": "execute_result",
          "data": {
            "text/plain": [
              "array([[139555.98166922],\n",
              "       [132261.45205167],\n",
              "       [179278.21633664],\n",
              "       [273851.34555077],\n",
              "       [124484.63478285],\n",
              "       [235722.32101655],\n",
              "       [197650.22824235],\n",
              "       [253274.8916363 ],\n",
              "       [154206.58628356],\n",
              "       [165908.93377157],\n",
              "       [163295.70765981],\n",
              "       [147972.98466188],\n",
              "       [189323.88444834],\n",
              "       [300509.85844886],\n",
              "       [141576.77567688],\n",
              "       [376986.34610379],\n",
              "       [175551.46301557],\n",
              "       [241109.94643013],\n",
              "       [234554.52084368],\n",
              "       [ 96853.29065954],\n",
              "       [123226.42789553],\n",
              "       [206276.81837215],\n",
              "       [110270.20013485],\n",
              "       [111207.11868107],\n",
              "       [235638.66928001],\n",
              "       [194932.95683573],\n",
              "       [184796.88019535],\n",
              "       [106111.44499881],\n",
              "       [314236.38334379],\n",
              "       [133940.90723798],\n",
              "       [241817.47568201],\n",
              "       [233912.65655847],\n",
              "       [107818.07469745],\n",
              "       [122252.96712414],\n",
              "       [138287.50526335],\n",
              "       [132395.03255468],\n",
              "       [118260.74415055],\n",
              "       [283147.96324988],\n",
              "       [300184.07165449],\n",
              "       [199134.12920355],\n",
              "       [191691.67302365],\n",
              "       [167870.82729964],\n",
              "       [130587.10684427],\n",
              "       [130740.47454969],\n",
              "       [141891.90021666],\n",
              "       [149371.8355351 ],\n",
              "       [135207.92940471],\n",
              "       [205571.0894012 ],\n",
              "       [151097.47054414],\n",
              "       [237783.62045282],\n",
              "       [133168.89491389],\n",
              "       [335508.77412156],\n",
              "       [148442.08120876],\n",
              "       [219305.07006556],\n",
              "       [217499.06119311],\n",
              "       [230138.20726318],\n",
              "       [188408.42119554],\n",
              "       [219220.33364886],\n",
              "       [148236.10342101],\n",
              "       [253385.43363541],\n",
              "       [195053.64299223],\n",
              "       [ 82041.84645833],\n",
              "       [133697.56446149],\n",
              "       [260204.58944468],\n",
              "       [124717.7901178 ],\n",
              "       [211133.40341546],\n",
              "       [387067.57584825],\n",
              "       [252745.50882877],\n",
              "       [157629.75646628],\n",
              "       [144378.73582746],\n",
              "       [153096.31752644],\n",
              "       [264134.17127879],\n",
              "       [326286.64760699],\n",
              "       [155515.15826523],\n",
              "       [155478.90886492],\n",
              "       [262231.02503059],\n",
              "       [127906.94909472],\n",
              "       [154953.90482037],\n",
              "       [196130.37958925],\n",
              "       [157763.11762091],\n",
              "       [137392.04686164],\n",
              "       [324852.66859715],\n",
              "       [105943.94598116],\n",
              "       [261929.75936742],\n",
              "       [242952.05536292],\n",
              "       [242954.74649107],\n",
              "       [258803.30566993],\n",
              "       [159549.65382101],\n",
              "       [171734.86003861],\n",
              "       [120738.66818412],\n",
              "       [195660.80205771],\n",
              "       [159680.66485411],\n",
              "       [124373.68383254],\n",
              "       [114936.10999312],\n",
              "       [205060.96128752],\n",
              "       [234197.37747508],\n",
              "       [343048.10368102],\n",
              "       [144175.92788115],\n",
              "       [ 91036.42592049],\n",
              "       [316299.73286593],\n",
              "       [138214.25172648],\n",
              "       [ 87215.51838368],\n",
              "       [211218.83838188],\n",
              "       [195669.56034364],\n",
              "       [157286.15831008],\n",
              "       [224507.40152528],\n",
              "       [191813.05053205],\n",
              "       [137392.15227545],\n",
              "       [116313.09882193],\n",
              "       [190390.23698288],\n",
              "       [168314.47005512],\n",
              "       [140519.19131517],\n",
              "       [191422.67751927],\n",
              "       [209867.42005773],\n",
              "       [170911.60657126],\n",
              "       [112926.44388261],\n",
              "       [242357.69085617],\n",
              "       [208119.55547038],\n",
              "       [139654.62687909],\n",
              "       [119208.46960051],\n",
              "       [ 97028.429375  ],\n",
              "       [190371.77583406],\n",
              "       [ 86533.713318  ],\n",
              "       [108866.52175027],\n",
              "       [186446.8324937 ],\n",
              "       [149684.79689129],\n",
              "       [148479.20071361],\n",
              "       [165743.57884859],\n",
              "       [275893.06104939],\n",
              "       [402831.37622858],\n",
              "       [192943.80641077],\n",
              "       [114236.10660285],\n",
              "       [108154.47663028],\n",
              "       [122953.84702792],\n",
              "       [213863.94227424],\n",
              "       [128462.652663  ],\n",
              "       [339827.76172827],\n",
              "       [147311.43552374],\n",
              "       [110443.36181621],\n",
              "       [136709.51631785],\n",
              "       [214110.61290562],\n",
              "       [102355.06950256],\n",
              "       [180594.42920799],\n",
              "       [583904.76075394],\n",
              "       [ 65099.7321748 ],\n",
              "       [351382.09403497],\n",
              "       [176925.05308573],\n",
              "       [186990.41851724],\n",
              "       [187305.85593789],\n",
              "       [181926.40605206],\n",
              "       [223105.05315251],\n",
              "       [246189.43269667],\n",
              "       [162762.18454105],\n",
              "       [164092.16009164],\n",
              "       [113209.34589621],\n",
              "       [160370.48945905],\n",
              "       [281756.93030755],\n",
              "       [206824.60663612],\n",
              "       [143807.05690244],\n",
              "       [164105.4522763 ],\n",
              "       [218825.76260884],\n",
              "       [279436.14690391],\n",
              "       [155002.72019682],\n",
              "       [132462.49758425],\n",
              "       [140572.19316641],\n",
              "       [125405.36435026],\n",
              "       [178957.30845447],\n",
              "       [235039.18038573],\n",
              "       [106504.9062139 ],\n",
              "       [227769.232251  ],\n",
              "       [378980.24389463],\n",
              "       [202604.81679905],\n",
              "       [104645.31427608],\n",
              "       [ 86509.32618949],\n",
              "       [145800.8835207 ],\n",
              "       [175540.42534527],\n",
              "       [115642.2588891 ],\n",
              "       [366949.00837833],\n",
              "       [ 53012.73417345],\n",
              "       [124752.66520462],\n",
              "       [162475.50044766],\n",
              "       [121964.48025923],\n",
              "       [284321.16867983],\n",
              "       [189502.05422205],\n",
              "       [123402.09842243],\n",
              "       [181367.13888139],\n",
              "       [119102.12138918],\n",
              "       [128484.6453003 ],\n",
              "       [120075.67612683],\n",
              "       [272557.44038815],\n",
              "       [219868.84051128],\n",
              "       [140937.01096786],\n",
              "       [111218.36016256],\n",
              "       [189596.43756539],\n",
              "       [287715.54158324],\n",
              "       [148505.90086545],\n",
              "       [263359.75796691],\n",
              "       [132862.0198288 ],\n",
              "       [107390.53240676],\n",
              "       [155125.96552967],\n",
              "       [146980.38154162],\n",
              "       [317103.2363961 ],\n",
              "       [357942.39596314],\n",
              "       [118778.4566989 ],\n",
              "       [275893.18897113],\n",
              "       [ 97683.29682937],\n",
              "       [190906.67643948],\n",
              "       [165520.1145283 ],\n",
              "       [116882.61440962],\n",
              "       [118785.54125926],\n",
              "       [152646.49345223],\n",
              "       [219328.48118002],\n",
              "       [238819.920045  ],\n",
              "       [189040.05714123],\n",
              "       [169708.51905511],\n",
              "       [474633.54594818],\n",
              "       [212563.65632068],\n",
              "       [146709.27906358],\n",
              "       [109895.76760822],\n",
              "       [145960.89214622],\n",
              "       [146335.36802551],\n",
              "       [ 90786.16460705],\n",
              "       [176704.85261282],\n",
              "       [217163.45403575],\n",
              "       [117472.16904439],\n",
              "       [213466.56345551],\n",
              "       [162856.14774009],\n",
              "       [227839.14988734],\n",
              "       [171112.8666293 ],\n",
              "       [206416.49950214],\n",
              "       [309474.88125822],\n",
              "       [200812.39100658],\n",
              "       [151480.59242966],\n",
              "       [354391.39265094],\n",
              "       [103004.82392201],\n",
              "       [174716.78501448],\n",
              "       [111029.75233843],\n",
              "       [221256.10810132],\n",
              "       [222220.32947996],\n",
              "       [218902.01211189],\n",
              "       [167602.41701288],\n",
              "       [160044.82405392],\n",
              "       [124722.57306292],\n",
              "       [130806.93961609],\n",
              "       [143581.90904992],\n",
              "       [231608.44775033],\n",
              "       [183830.8270833 ],\n",
              "       [139020.304513  ],\n",
              "       [161172.48759259],\n",
              "       [ 92016.04720247],\n",
              "       [147441.38365329],\n",
              "       [187585.05675402],\n",
              "       [ 91512.42708602],\n",
              "       [202565.69151492],\n",
              "       [197431.68282201],\n",
              "       [360286.05600325],\n",
              "       [183467.70649055],\n",
              "       [308209.52316713],\n",
              "       [176617.91053176],\n",
              "       [ 98418.562211  ],\n",
              "       [151641.09288053],\n",
              "       [180804.84435034],\n",
              "       [157293.26049304],\n",
              "       [205331.95835332],\n",
              "       [117248.58838598],\n",
              "       [146968.40063798],\n",
              "       [244907.54538305],\n",
              "       [241244.90036484]])"
            ]
          },
          "metadata": {},
          "execution_count": 257
        }
      ]
    },
    {
      "cell_type": "code",
      "source": [
        "pipeline.score(X_val,y_val)"
      ],
      "metadata": {
        "colab": {
          "base_uri": "https://localhost:8080/"
        },
        "id": "ANaK-8tOAn8r",
        "outputId": "3d32f3c8-bb12-43f6-909a-098f7bb8be3d"
      },
      "execution_count": null,
      "outputs": [
        {
          "output_type": "execute_result",
          "data": {
            "text/plain": [
              "0.7300727616299325"
            ]
          },
          "metadata": {},
          "execution_count": 258
        }
      ]
    },
    {
      "cell_type": "code",
      "source": [
        "y_pred = pipeline.predict(test)"
      ],
      "metadata": {
        "id": "1yFXONQzFqRj"
      },
      "execution_count": null,
      "outputs": []
    },
    {
      "cell_type": "code",
      "source": [
        "y_pred = pd.DataFrame(y_pred, columns=['SalePrice'])"
      ],
      "metadata": {
        "id": "1gQDoAZXXlvG"
      },
      "execution_count": null,
      "outputs": []
    },
    {
      "cell_type": "code",
      "source": [
        "def create_submission(test, y_pred):\n",
        "  \"\"\"\n",
        "  Create a submission DataFrame from test DataFrame and y_pred DataFrame\n",
        "\n",
        "  Args:\n",
        "      test (pd.DataFrame): DataFrame containing the 'id' column\n",
        "      y_pred (pd.DataFrame): DataFrame containing the 'SalesPrice' column\n",
        "\n",
        "  Returns:\n",
        "      pd.DataFrame: A new DataFrame with 'id' and 'SalesPrice' columns\n",
        "  \"\"\"\n",
        "  # Concatenate DataFrames by row (inner join)\n",
        "  submission = pd.concat([test[['Id']], y_pred[['SalePrice']]], axis=1)\n",
        "  return submission"
      ],
      "metadata": {
        "id": "aPQIg7XSWYgL"
      },
      "execution_count": null,
      "outputs": []
    },
    {
      "cell_type": "code",
      "source": [
        "submission = create_submission(test,y_pred)\n",
        "submission = submission.set_index('Id',drop=True)\n",
        "\n",
        "submission.to_csv(\"submission_sales_price.csv\")"
      ],
      "metadata": {
        "id": "BwJbg5JhSK7q"
      },
      "execution_count": null,
      "outputs": []
    },
    {
      "cell_type": "code",
      "source": [
        "import numpy as np\n",
        "import matplotlib.pyplot as plt\n",
        "coefs = np.absolute(pipeline.named_steps.linearregression.coef_)\n",
        "columns = pipeline.named_steps.onehotencoder.feature_names_out_\n",
        "\n",
        "coef_series = pd.Series(coefs[0],columns)\n",
        "data = coef_series.sort_values(ascending=False).head(20)\n",
        "plt.xlabel(\"absolute coefs\")\n",
        "plt.ylabel(\"feature name\")\n",
        "plt.barh(data.index,data.values,color='skyblue')\n",
        "plt.show()"
      ],
      "metadata": {
        "colab": {
          "base_uri": "https://localhost:8080/",
          "height": 449
        },
        "id": "MkgZM5wLkF2b",
        "outputId": "cfcf1ca8-fa94-48f9-df78-faba557d2c4a"
      },
      "execution_count": null,
      "outputs": [
        {
          "output_type": "display_data",
          "data": {
            "text/plain": [
              "<Figure size 640x480 with 1 Axes>"
            ],
            "image/png": "[encoded data removed]"
          },
          "metadata": {}
        }
      ]
    },
    {
      "cell_type": "markdown",
      "source": [],
      "metadata": {
        "id": "yvEwcWw-cgCy"
      }
    }
  ]
}